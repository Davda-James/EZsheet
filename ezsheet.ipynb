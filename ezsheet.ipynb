{
  "cells": [
    {
      "cell_type": "markdown",
      "metadata": {},
      "source": [
        "This is agent for marking the attendance to google sheets automatically after extracting roll numbers from marked sheet and remove manual works for teacher's assistant\n",
        "Have Fun with it !"
      ]
    },
    {
      "cell_type": "code",
      "execution_count": null,
      "metadata": {
        "colab": {
          "base_uri": "https://localhost:8080/"
        },
        "id": "yiQi_-Uwhg86",
        "outputId": "2b23142b-a032-4a7b-a13c-d00c199a86c7"
      },
      "outputs": [
        {
          "name": "stdout",
          "output_type": "stream",
          "text": [
            "Collecting pytesseract\n",
            "  Downloading pytesseract-0.3.13-py3-none-any.whl.metadata (11 kB)\n",
            "Requirement already satisfied: opencv-python in /usr/local/lib/python3.11/dist-packages (4.11.0.86)\n",
            "Requirement already satisfied: gspread in /usr/local/lib/python3.11/dist-packages (6.1.4)\n",
            "Requirement already satisfied: oauth2client in /usr/local/lib/python3.11/dist-packages (4.1.3)\n",
            "Requirement already satisfied: packaging>=21.3 in /usr/local/lib/python3.11/dist-packages (from pytesseract) (24.2)\n",
            "Requirement already satisfied: Pillow>=8.0.0 in /usr/local/lib/python3.11/dist-packages (from pytesseract) (11.1.0)\n",
            "Requirement already satisfied: numpy>=1.21.2 in /usr/local/lib/python3.11/dist-packages (from opencv-python) (1.26.4)\n",
            "Requirement already satisfied: google-auth>=1.12.0 in /usr/local/lib/python3.11/dist-packages (from gspread) (2.38.0)\n",
            "Requirement already satisfied: google-auth-oauthlib>=0.4.1 in /usr/local/lib/python3.11/dist-packages (from gspread) (1.2.1)\n",
            "Requirement already satisfied: httplib2>=0.9.1 in /usr/local/lib/python3.11/dist-packages (from oauth2client) (0.22.0)\n",
            "Requirement already satisfied: pyasn1>=0.1.7 in /usr/local/lib/python3.11/dist-packages (from oauth2client) (0.6.1)\n",
            "Requirement already satisfied: pyasn1-modules>=0.0.5 in /usr/local/lib/python3.11/dist-packages (from oauth2client) (0.4.1)\n",
            "Requirement already satisfied: rsa>=3.1.4 in /usr/local/lib/python3.11/dist-packages (from oauth2client) (4.9)\n",
            "Requirement already satisfied: six>=1.6.1 in /usr/local/lib/python3.11/dist-packages (from oauth2client) (1.17.0)\n",
            "Requirement already satisfied: cachetools<6.0,>=2.0.0 in /usr/local/lib/python3.11/dist-packages (from google-auth>=1.12.0->gspread) (5.5.2)\n",
            "Requirement already satisfied: requests-oauthlib>=0.7.0 in /usr/local/lib/python3.11/dist-packages (from google-auth-oauthlib>=0.4.1->gspread) (2.0.0)\n",
            "Requirement already satisfied: pyparsing!=3.0.0,!=3.0.1,!=3.0.2,!=3.0.3,<4,>=2.4.2 in /usr/local/lib/python3.11/dist-packages (from httplib2>=0.9.1->oauth2client) (3.2.1)\n",
            "Requirement already satisfied: oauthlib>=3.0.0 in /usr/local/lib/python3.11/dist-packages (from requests-oauthlib>=0.7.0->google-auth-oauthlib>=0.4.1->gspread) (3.2.2)\n",
            "Requirement already satisfied: requests>=2.0.0 in /usr/local/lib/python3.11/dist-packages (from requests-oauthlib>=0.7.0->google-auth-oauthlib>=0.4.1->gspread) (2.32.3)\n",
            "Requirement already satisfied: charset-normalizer<4,>=2 in /usr/local/lib/python3.11/dist-packages (from requests>=2.0.0->requests-oauthlib>=0.7.0->google-auth-oauthlib>=0.4.1->gspread) (3.4.1)\n",
            "Requirement already satisfied: idna<4,>=2.5 in /usr/local/lib/python3.11/dist-packages (from requests>=2.0.0->requests-oauthlib>=0.7.0->google-auth-oauthlib>=0.4.1->gspread) (3.10)\n",
            "Requirement already satisfied: urllib3<3,>=1.21.1 in /usr/local/lib/python3.11/dist-packages (from requests>=2.0.0->requests-oauthlib>=0.7.0->google-auth-oauthlib>=0.4.1->gspread) (2.3.0)\n",
            "Requirement already satisfied: certifi>=2017.4.17 in /usr/local/lib/python3.11/dist-packages (from requests>=2.0.0->requests-oauthlib>=0.7.0->google-auth-oauthlib>=0.4.1->gspread) (2025.1.31)\n",
            "Downloading pytesseract-0.3.13-py3-none-any.whl (14 kB)\n",
            "Installing collected packages: pytesseract\n",
            "Successfully installed pytesseract-0.3.13\n"
          ]
        }
      ],
      "source": [
        "!pip install opencv-python gspread oauth2client"
      ]
    },
    {
      "cell_type": "code",
      "execution_count": 3,
      "metadata": {
        "id": "YgtbeXgWi3JE"
      },
      "outputs": [],
      "source": [
        "import cv2\n",
        "import pytesseract\n",
        "import gspread\n",
        "from oauth2client.service_account import ServiceAccountCredentials\n",
        "from google.colab import drive\n",
        "import os\n",
        "import json\n",
        "import re\n",
        "from google.colab.patches import cv2_imshow\n",
        "from google import genai\n",
        "from google.genai import types\n",
        "import PIL.Image\n",
        "from googleapiclient.discovery import build\n",
        "from google.colab import userdata"
      ]
    },
    {
      "cell_type": "code",
      "execution_count": 4,
      "metadata": {
        "colab": {
          "base_uri": "https://localhost:8080/"
        },
        "id": "imNfx3LcjCK_",
        "outputId": "1730eafd-4b67-41c4-9eee-fc35329c0e55"
      },
      "outputs": [
        {
          "name": "stdout",
          "output_type": "stream",
          "text": [
            "Mounted at /content/drive\n"
          ]
        }
      ],
      "source": [
        "drive.mount('/content/drive')"
      ]
    },
    {
      "cell_type": "code",
      "execution_count": null,
      "metadata": {
        "id": "Ifsh34TrjmVy"
      },
      "outputs": [],
      "source": [
        "folder_path = \"/content/drive/MyDrive/images\" # add your location of images in drive "
      ]
    },
    {
      "cell_type": "code",
      "execution_count": null,
      "metadata": {
        "colab": {
          "base_uri": "https://localhost:8080/",
          "height": 36
        },
        "id": "BwWvJZ0vv6jj",
        "outputId": "3286d65b-15a1-43c6-8c0f-e5a8f1e02da5"
      },
      "outputs": [
        {
          "data": {
            "application/vnd.google.colaboratory.intrinsic+json": {
              "type": "string"
            },
            "text/plain": [
              "'/content/credentials.json'"
            ]
          },
          "execution_count": 6,
          "metadata": {},
          "output_type": "execute_result"
        }
      ],
      "source": [
        "import shutil\n",
        "\n",
        "# Path to file in Google Drive\n",
        "src_path = \"/content/drive/MyDrive/credentials.json\"\n",
        "\n",
        "# Destination in Colab's local storage\n",
        "dest_path = \"/content/credentials.json\" # add location of credentials.json\n",
        "\n",
        "# Copy the file\n",
        "shutil.copy(src_path, dest_path)"
      ]
    },
    {
      "cell_type": "code",
      "execution_count": 7,
      "metadata": {
        "id": "Uj1aTktbq_CV"
      },
      "outputs": [],
      "source": [
        "json_path=\"/content/credentials.json\""
      ]
    },
    {
      "cell_type": "code",
      "execution_count": null,
      "metadata": {
        "id": "D8O4q1hTmb7D"
      },
      "outputs": [],
      "source": [
        "scope = [\"https://spreadsheets.google.com/feeds\", \"https://www.googleapis.com/auth/drive\"]\n",
        "creds = ServiceAccountCredentials.from_json_keyfile_name(json_path, scope)\n",
        "client = gspread.authorize(creds)\n",
        "\n",
        "# Open the Google Sheet\n",
        "sheet = client.open(\"test\").sheet1  # Add your sheet name \n",
        "\n",
        "service = build(\"sheets\", \"v4\", credentials=creds)\n",
        "\n",
        "# Example: Read data\n",
        "# data = sheet.get_all_records()\n",
        "# print(\"Google Sheets Data:\", data)"
      ]
    },
    {
      "cell_type": "code",
      "execution_count": 12,
      "metadata": {
        "id": "ut1DX6fXJr-E"
      },
      "outputs": [],
      "source": [
        "client = genai.Client(api_key=userdata.get('GEMINI_API'))\n",
        "present_roll_numbers=[]\n",
        "for img in os.listdir(folder_path):\n",
        "    image = PIL.Image.open(os.path.join(folder_path, img))\n",
        "    response=client.models.generate_content(\n",
        "        model=\"gemini-2.0-flash\",\n",
        "        contents=['''Extract roll numbers from it they start with b or B and after then some numbers extract all the roll numbers and make a python list of them and return response as like this {\"roll_numbers\" : list of roll number},  here roll_numbers is a key and list of roll number is a list that you formed , Return the following data in pure JSON format (not wrapped in a code block). Do not include ```json or any markdown formatting. Only return a valid JSON dictionary. Example output:\n",
        "    {\"roll_numbers\": [\"B23423\", \"B23355\", \"B23054\"]} , Output only valid JSON. No explanations, no markdown, no code block formatting. Just the raw JSON dictionary.?''',image]\n",
        "    )\n",
        "    json_string=response.text\n",
        "    # Strip the code block markers\n",
        "    json_string = json_string.strip(\"```json\").strip(\"```\").strip()\n",
        "    data_dict = json.loads(json_string)\n",
        "    present_roll_numbers.extend(data_dict[\"roll_numbers\"])"
      ]
    },
    {
      "cell_type": "code",
      "execution_count": 17,
      "metadata": {
        "id": "2iMjWMYxJU3E"
      },
      "outputs": [],
      "source": [
        "present_roll_numbers = set(rn.upper() for rn in present_roll_numbers)"
      ]
    },
    {
      "cell_type": "code",
      "execution_count": 18,
      "metadata": {
        "colab": {
          "base_uri": "https://localhost:8080/"
        },
        "id": "kIcK13jHnX-W",
        "outputId": "a6555ecd-f8a5-4574-a5a8-7b7cb806a962"
      },
      "outputs": [
        {
          "name": "stdout",
          "output_type": "stream",
          "text": [
            "272\n"
          ]
        }
      ],
      "source": [
        "print(len(present_roll_numbers))"
      ]
    },
    {
      "cell_type": "code",
      "execution_count": null,
      "metadata": {
        "colab": {
          "base_uri": "https://localhost:8080/"
        },
        "id": "Xe_DxthEb7fq",
        "outputId": "b9970302-ea01-4e2f-d51c-b41e5183b311"
      },
      "outputs": [
        {
          "name": "stdout",
          "output_type": "stream",
          "text": [
            "['Roll Number', 'Full Name', '', 'P', 'A', 'L', 'X', ' 21-1-25', ' 23-1-25', ' 28-1-25', ' 30-1-25', ' 04-2-25', '06/02/2025', '11/02/2025', '13/02/2025', '18/02/2025', '20/02/2025', '25/02/2025', '27/02/2025']\n",
            "Attendance marked successfully for  04-2-25 , total students were 272!\n"
          ]
        }
      ],
      "source": [
        "data2=sheet.get_all_values()\n",
        "headers=data2[0]\n",
        "print(headers)\n",
        "date=input(\"Enter the date i.e column name for attendance: \")\n",
        "# date=\" 04-2-25\" # take manual input as date can have space according to name given to row\n",
        "date_col = headers.index(date) + 1\n",
        "roll_col_index = headers.index(\"Roll Number\") + 1\n",
        "\n",
        "# Mark their attendance\n",
        "\n",
        "# Spreadsheet ID (extract from the sheet URL)\n",
        "spreadsheet_id = userdata.get(\"sheet_id\")  # Replace with your actual Spreadsheet ID\n",
        "\n",
        "# Store cell updates for batch processing\n",
        "requests = []\n",
        "values = []\n",
        "\n",
        "# Mark \"P\" for matching roll numbers and add formatting requests\n",
        "for i in range(1, len(data2)):  # Skip header\n",
        "    roll_number = data2[i][roll_col_index - 1].strip().upper()  # Get roll number from row\n",
        "    if roll_number in present_roll_numbers:\n",
        "        row_number = i + 1  # Convert to 1-based index\n",
        "\n",
        "        values.append({\"range\": f\"Sheet1!{chr(64 + date_col)}{row_number}\", \"values\": [[\"P\"]]})\n",
        "        # Update \"P\" in the sheet\n",
        "        # sheet.update_cell(row_number, date_col, \"P\")\n",
        "\n",
        "        # Add formatting request to make cell green with black text\n",
        "        requests.append({\n",
        "            \"repeatCell\": {\n",
        "                \"range\": {\n",
        "                    \"sheetId\": sheet.id,\n",
        "                    \"startRowIndex\": row_number - 1,\n",
        "                    \"endRowIndex\": row_number,\n",
        "                    \"startColumnIndex\": date_col - 1,\n",
        "                    \"endColumnIndex\": date_col\n",
        "                },\n",
        "                \"cell\": {\n",
        "                    \"userEnteredFormat\": {\n",
        "                        \"backgroundColor\": {\"red\": 0, \"green\": 0.98, \"blue\": 0},  # Light green\n",
        "                        \"textFormat\": {\"foregroundColor\": {\"red\": 0, \"green\": 0, \"blue\": 0}}  # Black text\n",
        "                    }\n",
        "                },\n",
        "                \"fields\": \"userEnteredFormat(backgroundColor,textFormat)\"\n",
        "            }\n",
        "        })\n",
        "\n",
        "# Batch update \"P\" values\n",
        "if values:\n",
        "    body = {\"valueInputOption\": \"USER_ENTERED\", \"data\": values}\n",
        "    service.spreadsheets().values().batchUpdate(spreadsheetId=spreadsheet_id, body=body).execute()\n",
        "\n",
        "# Apply formatting using batchUpdate\n",
        "if requests:\n",
        "    body = {\"requests\": requests}\n",
        "    service.spreadsheets().batchUpdate(spreadsheetId=spreadsheet_id, body=body).execute()\n",
        "\n",
        "print(f\"Attendance marked successfully for {date} , total students were {len(present_roll_numbers)}!\")"
      ]
    }
  ],
  "metadata": {
    "colab": {
      "provenance": []
    },
    "kernelspec": {
      "display_name": "Python 3",
      "name": "python3"
    },
    "language_info": {
      "name": "python"
    }
  },
  "nbformat": 4,
  "nbformat_minor": 0
}
